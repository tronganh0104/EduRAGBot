{
 "cells": [
  {
   "cell_type": "code",
   "execution_count": 8,
   "id": "6207f5f7",
   "metadata": {},
   "outputs": [],
   "source": [
    "import os\n",
    "from pathlib import Path\n",
    "from langchain_community.vectorstores import FAISS\n",
    "from langchain_core.documents import Document\n",
    "from langchain_huggingface import HuggingFaceEmbeddings\n",
    "from langchain.text_splitter import RecursiveCharacterTextSplitter\n",
    "from langchain_community.document_loaders import DirectoryLoader, TextLoader"
   ]
  },
  {
   "cell_type": "code",
   "execution_count": 9,
   "id": "575484d7",
   "metadata": {},
   "outputs": [],
   "source": [
    "CONFIG = {\n",
    "    \"data_path\": \"dulieu_daotao\",\n",
    "    \"vectorstore_path\": \"faiss_index\",\n",
    "    \"embedding_model\": \"sentence-transformers/all-MiniLM-L6-v2\",\n",
    "    \"retriever_k\": 3\n",
    "}"
   ]
  },
  {
   "cell_type": "code",
   "execution_count": 10,
   "id": "a70c7455",
   "metadata": {},
   "outputs": [],
   "source": [
    "# Giả sử code tạm phần data của a Quân\n",
    "\n",
    "def prepare_vector_database(config):\n",
    "    vectorstore_path = Path(config[\"vectorstore_path\"])\n",
    "    data_path = Path(config[\"data_path\"])\n",
    "\n",
    "    if (vectorstore_path.exists()):\n",
    "        print(\"csdl vector đã tồn tại. Bỏ qua tạo mới\")\n",
    "        return\n",
    "    \n",
    "    if not data_path.exists():\n",
    "        data_path.mkdir(parents=True, exist_ok=True)\n",
    "        (data_path / \"hoc_phi.txt\").write_text(\"Quy định về học phí năm học 2024-2025 cho sinh viên ngành Công nghệ thông tin là 30 triệu đồng/năm. Sinh viên có thể đóng theo hai kỳ. Ngành Quản trị kinh doanh có mức học phí là 28 triệu đồng/năm.\", encoding='utf-8')\n",
    "        (data_path / \"lich_nghi.txt\").write_text(\"Trường thông báo lịch nghỉ lễ Quốc Khánh. Toàn thể sinh viên được nghỉ vào ngày 2 tháng 9. Lịch thi cuối kỳ sẽ được thông báo sau ngày nghỉ lễ.\", encoding='utf-8')\n",
    "        (data_path / \"thu_tuc.txt\").write_text(\"Thủ tục nhập học cho tân sinh viên yêu cầu nộp bản sao công chứng học bạ THPT và giấy báo trúng tuyển trước ngày 15 tháng 8. Thủ tục đăng ký thi lại cần hoàn thành đơn trực tuyến trên cổng thông tin.\", encoding='utf-8')\n",
    "\n",
    "    # Tải dữ liệu\n",
    "    loader = DirectoryLoader(\n",
    "        str(data_path),\n",
    "        glob=\"**/*.txt\",\n",
    "        loader_cls=TextLoader,\n",
    "        loader_kwargs={'encoding': 'utf-8'}\n",
    "    )\n",
    "    documents = loader.load()\n",
    "\n",
    "    #Chia chunk\n",
    "    text_splitter = RecursiveCharacterTextSplitter(\n",
    "        chunk_size = 500,\n",
    "        chunk_overlap = 50\n",
    "    )\n",
    "    docs = text_splitter.split_documents(documents)\n",
    "    print(\"Đã chia {len(documents)} tài liệu thành {len(docs)} chunks\")\n",
    "\n",
    "    embeddings_model = HuggingFaceEmbeddings(\n",
    "        model_name = config[\"embedding_model\"],\n",
    "        model_kwargs = {'device' : 'cpu'}\n",
    "    )\n",
    "\n",
    "    vectorstore = FAISS.from_documents(docs, embeddings_model)\n",
    "    vectorstore.save_local(config[\"vectorstore_path\"])\n"
   ]
  },
  {
   "cell_type": "code",
   "execution_count": 11,
   "id": "1da1ab2c",
   "metadata": {},
   "outputs": [],
   "source": [
    "class QuerySystem:\n",
    "    def __init__(self, config):\n",
    "        self.config = config\n",
    "\n",
    "        vectorstore_path = self.config['vectorstore_path']\n",
    "        if not Path(vectorstore_path).exists():\n",
    "            raise FileNotFoundError(\n",
    "                f'không tìm thấy thư mực CSDL vector'\n",
    "            )\n",
    "        \n",
    "        self.embeddings_model = HuggingFaceEmbeddings(\n",
    "            model_name=self.config[\"embedding_model\"],\n",
    "            model_kwargs={'device': 'cpu'}\n",
    "        )\n",
    "\n",
    "        self.vectorstore = FAISS.load_local(\n",
    "            vectorstore_path,\n",
    "            embeddings=self.embeddings_model,\n",
    "            allow_dangerous_deserialization=True\n",
    "        )\n",
    "\n",
    "        # Tạo retriever cơ bản\n",
    "        self.retriever = self.vectorstore.as_retriever(\n",
    "            search_lwargs={'k': self.config[\"retriever_k\"]}\n",
    "        )\n",
    "\n",
    "    def query(self, text: str) -> list[Document]:\n",
    "        print(f\"Đang thực hiện truy vấn câu hỏi: {text}\")\n",
    "        results = self.retriever.invoke(text)\n",
    "        return results"
   ]
  },
  {
   "cell_type": "code",
   "execution_count": 12,
   "id": "6116213f",
   "metadata": {},
   "outputs": [],
   "source": [
    "# Tích hợp reranking \n",
    "from langchain.retrievers.contextual_compression import ContextualCompressionRetriever\n",
    "from langchain_cohere import CohereRerank\n",
    "\n",
    "def create_reranking_retriever(query_system: QuerySystem):\n",
    "    try:\n",
    "        cohere_api_key = os.environ.get(\"COHERE_API_KEY\")\n",
    "        if not cohere_api_key:\n",
    "            raise ValueError(\"Không thấy cohere api\")\n",
    "        \n",
    "        compressor = CohereRerank(model=\"rerank-multilingual-v3.0\", top_n=2)\n",
    "\n",
    "        compression_retriever = ContextualCompressionRetriever(\n",
    "            base_compressor=compressor,\n",
    "            base_retriever=query_system.retriever\n",
    "        )\n",
    "        return compression_retriever\n",
    "    \n",
    "    except (ImportError, ValueError) as e:\n",
    "        print(f\"Lỗi khi cấu hình Cohere Rerank: {e}\")\n",
    "        print(\" => Bỏ qua.Sử dụng retriever cơ bản.\")\n",
    "        return None"
   ]
  },
  {
   "cell_type": "code",
   "execution_count": 13,
   "id": "cef065eb",
   "metadata": {},
   "outputs": [
    {
     "name": "stdout",
     "output_type": "stream",
     "text": [
      "csdl vector đã tồn tại. Bỏ qua tạo mới\n",
      "Đang thực hiện truy vấn câu hỏi: học phí ngành công nghệ thông tin là bao nhiêu?\n",
      "3 vị trí sau khi truy vấn\n",
      "- Quy định về học phí năm học 2024-2025 cho sinh viên ngành Công nghệ thông tin là 30 triệu đồng/năm. \n",
      "- Trường thông báo lịch nghỉ lễ Quốc Khánh. Toàn thể sinh viên được nghỉ vào ngày 2 tháng 9. Lịch thi \n",
      "- Thủ tục nhập học cho tân sinh viên yêu cầu nộp bản sao công chứng học bạ THPT và giấy báo trúng tuyể\n",
      "Đang thực hiện truy vấn câu hỏi: khi nào trường nghỉ lễ?\n",
      "3 vị trí sau khi truy vấn\n",
      "- Trường thông báo lịch nghỉ lễ Quốc Khánh. Toàn thể sinh viên được nghỉ vào ngày 2 tháng 9. Lịch thi \n",
      "- Thủ tục nhập học cho tân sinh viên yêu cầu nộp bản sao công chứng học bạ THPT và giấy báo trúng tuyể\n",
      "- Quy định về học phí năm học 2024-2025 cho sinh viên ngành Công nghệ thông tin là 30 triệu đồng/năm. \n",
      "Đang thực hiện truy vấn câu hỏi: thủ tục thi lại gồm những gì?\n",
      "3 vị trí sau khi truy vấn\n",
      "- Thủ tục nhập học cho tân sinh viên yêu cầu nộp bản sao công chứng học bạ THPT và giấy báo trúng tuyể\n",
      "- Trường thông báo lịch nghỉ lễ Quốc Khánh. Toàn thể sinh viên được nghỉ vào ngày 2 tháng 9. Lịch thi \n",
      "- Quy định về học phí năm học 2024-2025 cho sinh viên ngành Công nghệ thông tin là 30 triệu đồng/năm. \n"
     ]
    }
   ],
   "source": [
    "\n",
    "prepare_vector_database(CONFIG)\n",
    "Query_System = QuerySystem(CONFIG)\n",
    "\n",
    "#Đặt câu hỏi\n",
    "sample_queries = [\n",
    "    \"học phí ngành công nghệ thông tin là bao nhiêu?\",\n",
    "    \"khi nào trường nghỉ lễ?\",\n",
    "    \"thủ tục thi lại gồm những gì?\"\n",
    "]\n",
    "\n",
    "for q in sample_queries:\n",
    "    results = Query_System.query(q)\n",
    "    print(\"3 vị trí sau khi truy vấn\")\n",
    "    for doc in results:\n",
    "        print(\"- \" + doc.page_content[:100])"
   ]
  },
  {
   "cell_type": "code",
   "execution_count": 15,
   "id": "609252e0",
   "metadata": {},
   "outputs": [
    {
     "name": "stdout",
     "output_type": "stream",
     "text": [
      "3 vị trí sau khi truy vấn sau khi reranking\n",
      "- Quy định về học phí năm học 2024-2025 cho sinh viên ngành Công nghệ thông tin là 30 triệu đồng/năm. \n",
      "- Trường thông báo lịch nghỉ lễ Quốc Khánh. Toàn thể sinh viên được nghỉ vào ngày 2 tháng 9. Lịch thi \n",
      "3 vị trí sau khi truy vấn sau khi reranking\n",
      "- Trường thông báo lịch nghỉ lễ Quốc Khánh. Toàn thể sinh viên được nghỉ vào ngày 2 tháng 9. Lịch thi \n",
      "- Thủ tục nhập học cho tân sinh viên yêu cầu nộp bản sao công chứng học bạ THPT và giấy báo trúng tuyể\n",
      "3 vị trí sau khi truy vấn sau khi reranking\n",
      "- Thủ tục nhập học cho tân sinh viên yêu cầu nộp bản sao công chứng học bạ THPT và giấy báo trúng tuyể\n",
      "- Quy định về học phí năm học 2024-2025 cho sinh viên ngành Công nghệ thông tin là 30 triệu đồng/năm. \n"
     ]
    }
   ],
   "source": [
    "# Dùng reranking        \n",
    "advanced_retriever = create_reranking_retriever(Query_System)\n",
    "if advanced_retriever:\n",
    "    for q in sample_queries:\n",
    "        rr_results = advanced_retriever.invoke(q)\n",
    "        print(\"3 vị trí sau khi truy vấn sau khi reranking\")\n",
    "        for doc in rr_results:\n",
    "            print(\"- \" + doc.page_content[:100])"
   ]
  }
 ],
 "metadata": {
  "kernelspec": {
   "display_name": "Rag",
   "language": "python",
   "name": "python3"
  },
  "language_info": {
   "codemirror_mode": {
    "name": "ipython",
    "version": 3
   },
   "file_extension": ".py",
   "mimetype": "text/x-python",
   "name": "python",
   "nbconvert_exporter": "python",
   "pygments_lexer": "ipython3",
   "version": "3.10.18"
  }
 },
 "nbformat": 4,
 "nbformat_minor": 5
}
