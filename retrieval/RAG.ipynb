{
 "cells": [
  {
   "cell_type": "code",
   "execution_count": 4,
   "id": "6207f5f7",
   "metadata": {},
   "outputs": [],
   "source": [
    "import os\n",
    "from pathlib import Path\n",
    "from langchain_community.vectorstores import FAISS\n",
    "from langchain_core.documents import Document\n",
    "from langchain_huggingface import HuggingFaceEmbeddings\n",
    "from langchain.text_splitter import RecursiveCharacterTextSplitter\n",
    "from langchain_community.document_loaders import DirectoryLoader, TextLoader"
   ]
  },
  {
   "cell_type": "code",
   "execution_count": 5,
   "id": "575484d7",
   "metadata": {},
   "outputs": [],
   "source": [
    "CONFIG = {\n",
    "    \"data_path\": \"dulieu_daotao\",\n",
    "    \"vectorstore_path\": \"faiss_index\",\n",
    "    \"embedding_model\": \"sentence-transformers/all-MiniLM-L6-v2\",\n",
    "    \"retriever_k\": 3\n",
    "}"
   ]
  },
  {
   "cell_type": "code",
   "execution_count": 7,
   "id": "a70c7455",
   "metadata": {},
   "outputs": [],
   "source": [
    "# Giả sử code tạm phần data của a Quân\n",
    "\n",
    "def prepare_vector_database(config):\n",
    "    vectorstore_path = Path(config[\"vectorstore_path\"])\n",
    "    data_path = Path(config[\"data_path\"])\n",
    "\n",
    "    if (vectorstore_path.exists()):\n",
    "        print(\"csdl vector đã tồn tại. Bỏ qua tạo mới\")\n",
    "        return\n",
    "    \n",
    "    if not data_path.exists():\n",
    "        data_path.mkdir(parents=True, exist_ok=True)\n",
    "        (data_path / \"hoc_phi.txt\").write_text(\"Quy định về học phí năm học 2024-2025 cho sinh viên ngành Công nghệ thông tin là 30 triệu đồng/năm. Sinh viên có thể đóng theo hai kỳ. Ngành Quản trị kinh doanh có mức học phí là 28 triệu đồng/năm.\", encoding='utf-8')\n",
    "        (data_path / \"lich_nghi.txt\").write_text(\"Trường thông báo lịch nghỉ lễ Quốc Khánh. Toàn thể sinh viên được nghỉ vào ngày 2 tháng 9. Lịch thi cuối kỳ sẽ được thông báo sau ngày nghỉ lễ.\", encoding='utf-8')\n",
    "        (data_path / \"thu_tuc.txt\").write_text(\"Thủ tục nhập học cho tân sinh viên yêu cầu nộp bản sao công chứng học bạ THPT và giấy báo trúng tuyển trước ngày 15 tháng 8. Thủ tục đăng ký thi lại cần hoàn thành đơn trực tuyến trên cổng thông tin.\", encoding='utf-8')\n",
    "\n",
    "    # Tải dữ liệu\n",
    "    loader = DirectoryLoader(\n",
    "        str(data_path),\n",
    "        glob=\"**/*.txt\",\n",
    "        loader_cls=TextLoader,\n",
    "        loader_kwargs={'encoding': 'utf-8'}\n",
    "    )\n",
    "    documents = loader.load()\n",
    "\n",
    "    #Chia chunk\n",
    "    text_splitter = RecursiveCharacterTextSplitter(\n",
    "        chunk_size = 500,\n",
    "        chunk_overlap = 50\n",
    "    )\n",
    "    docs = text_splitter.split_documents(documents)\n",
    "    print(\"Đã chia {len(documents)} tài liệu thành {len(docs)} chunks\")\n",
    "\n",
    "    embeddings_model = HuggingFaceEmbeddings(\n",
    "        model_name = config[\"embedding_model\"],\n",
    "        model_kwargs = {'device' : 'cpu'}\n",
    "    )\n",
    "\n",
    "    vectorstore = FAISS.from_documents(docs, embeddings_model)\n",
    "    vectorstore.save.local(config[\"vectorestore_path\"])\n"
   ]
  },
  {
   "cell_type": "code",
   "execution_count": null,
   "id": "1da1ab2c",
   "metadata": {},
   "outputs": [],
   "source": []
  }
 ],
 "metadata": {
  "kernelspec": {
   "display_name": "Rag",
   "language": "python",
   "name": "python3"
  },
  "language_info": {
   "codemirror_mode": {
    "name": "ipython",
    "version": 3
   },
   "file_extension": ".py",
   "mimetype": "text/x-python",
   "name": "python",
   "nbconvert_exporter": "python",
   "pygments_lexer": "ipython3",
   "version": "3.10.18"
  }
 },
 "nbformat": 4,
 "nbformat_minor": 5
}
